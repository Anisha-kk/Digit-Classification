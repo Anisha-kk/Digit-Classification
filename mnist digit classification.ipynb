{
 "cells": [
  {
   "cell_type": "markdown",
   "id": "7d157b89",
   "metadata": {},
   "source": [
    "This code explores digit classification using the MNIST dataset using Logistic REgression, Logistic regression + pca and neural network \n",
    "The CSV format of the dataset is downloaded from Kaggle - source: https://www.kaggle.com/datasets/oddrationale/mnist-in-csv?resource=download"
   ]
  },
  {
   "cell_type": "code",
   "execution_count": 2,
   "id": "4d9053f7",
   "metadata": {},
   "outputs": [],
   "source": [
    "import numpy as np\n",
    "import pandas as pd\n",
    "\n",
    "#Extracting training and testing data\n",
    "train_data = pd.read_csv('mnist_train.csv')\n",
    "test_data = pd.read_csv('mnist_test.csv')"
   ]
  },
  {
   "cell_type": "markdown",
   "id": "4cd14c7a",
   "metadata": {},
   "source": [
    "The mnist_train.csv file contains the 60,000 training examples and labels. The mnist_test.csv contains 10,000 \n",
    "test examples and labels. Each row consists of 785 values: the first value is\n",
    " the label (a number from 0 to 9) and the remaining 784 values are the pixel values (a number from 0 to 255)."
   ]
  },
  {
   "cell_type": "code",
   "execution_count": 3,
   "id": "3c0d0cc8",
   "metadata": {},
   "outputs": [
    {
     "data": {
      "text/plain": [
       "<matplotlib.image.AxesImage at 0x2a33b26c488>"
      ]
     },
     "execution_count": 3,
     "metadata": {},
     "output_type": "execute_result"
    },
    {
     "data": {
      "image/png": "[encoded data removed]",
      "text/plain": [
       "<Figure size 640x480 with 1 Axes>"
      ]
     },
     "metadata": {},
     "output_type": "display_data"
    }
   ],
   "source": [
    "#Displaying one of the digits\n",
    "import matplotlib.pyplot as plt\n",
    "plt.imshow(train_data.iloc[1,1:].values.reshape(28,28)) "
   ]
  },
  {
   "cell_type": "code",
   "execution_count": 4,
   "id": "a5358453",
   "metadata": {},
   "outputs": [
    {
     "data": {
      "text/plain": [
       "((60000, 785), (10000, 785))"
      ]
     },
     "execution_count": 4,
     "metadata": {},
     "output_type": "execute_result"
    }
   ],
   "source": [
    "#Dimensions of training and testing sets\n",
    "train_data.shape, test_data.shape"
   ]
  },
  {
   "cell_type": "code",
   "execution_count": 5,
   "id": "9022e9cf",
   "metadata": {},
   "outputs": [],
   "source": [
    "#Splitting data into training and testing sets\n",
    "\n",
    "X_train = train_data.iloc[:,1:]\n",
    "y_train = train_data.iloc[:,0]\n",
    "X_test = test_data.iloc[:,1:]\n",
    "y_test = test_data.iloc[:,0]"
   ]
  },
  {
   "cell_type": "markdown",
   "id": "f76be720",
   "metadata": {},
   "source": [
    "### 1. Using Logistic Regression "
   ]
  },
  {
   "cell_type": "code",
   "execution_count": 6,
   "id": "732f411b",
   "metadata": {},
   "outputs": [
    {
     "name": "stdout",
     "output_type": "stream",
     "text": [
      "accuracy score 0.9246\n"
     ]
    }
   ],
   "source": [
    "#Training and testing\n",
    "\n",
    "from sklearn.linear_model import LogisticRegression \n",
    "from sklearn.preprocessing import StandardScaler\n",
    "from sklearn.metrics import accuracy_score\n",
    "\n",
    "import warnings\n",
    "warnings.filterwarnings('ignore')\n",
    "\n",
    "lr = LogisticRegression()\n",
    "\n",
    "#Scaling for convergence\n",
    "scaler = StandardScaler()\n",
    "X_train_scaler = scaler.fit_transform(X_train)\n",
    "X_test_scaler = scaler.transform(X_test)\n",
    "\n",
    "lr.fit(X_train_scaler, y_train)\n",
    "y_pred = lr.predict(X_test_scaler)\n",
    "print('accuracy score',accuracy_score(y_test, y_pred))"
   ]
  },
  {
   "cell_type": "markdown",
   "id": "751009d8",
   "metadata": {},
   "source": [
    "### 2. Logistic Regression using PCA"
   ]
  },
  {
   "cell_type": "code",
   "execution_count": 7,
   "id": "2ca4a5ce",
   "metadata": {},
   "outputs": [
    {
     "name": "stdout",
     "output_type": "stream",
     "text": [
      "accuracy score 0.9256\n"
     ]
    }
   ],
   "source": [
    "#Source :https://www.kaggle.com/code/yugalchambhare/pca-mnist\n",
    "from sklearn.decomposition import PCA\n",
    "pca = PCA(n_components = 400)\n",
    "xtrain_pca = pca.fit_transform(X_train_scaler)\n",
    "xtest_pca = pca.transform(X_test_scaler)\n",
    "lr.fit(xtrain_pca, y_train)\n",
    "ypred_pca = lr.predict(xtest_pca)\n",
    "print( 'accuracy score',accuracy_score(y_test, ypred_pca))"
   ]
  },
  {
   "cell_type": "markdown",
   "id": "1b42839a",
   "metadata": {},
   "source": [
    "A slight increase in accuracy is observed after applying PCA"
   ]
  },
  {
   "cell_type": "markdown",
   "id": "418353ec",
   "metadata": {},
   "source": [
    "### 3. Using Neural Network"
   ]
  },
  {
   "cell_type": "code",
   "execution_count": 8,
   "id": "2cf011ef",
   "metadata": {},
   "outputs": [
    {
     "name": "stdout",
     "output_type": "stream",
     "text": [
      "(60000, 784) (60000,)\n",
      "Model: \"Digit\"\n",
      "_________________________________________________________________\n",
      " Layer (type)                Output Shape              Param #   \n",
      "=================================================================\n",
      " L1 (Dense)                  (None, 120)               94200     \n",
      "                                                                 \n",
      " L2 (Dense)                  (None, 120)               14520     \n",
      "                                                                 \n",
      " L3 (Dense)                  (None, 10)                1210      \n",
      "                                                                 \n",
      "=================================================================\n",
      "Total params: 109,930\n",
      "Trainable params: 109,930\n",
      "Non-trainable params: 0\n",
      "_________________________________________________________________\n"
     ]
    }
   ],
   "source": [
    "#https://www.kaggle.com/code/jeiols/digit-classification\n",
    "\n",
    "import tensorflow as tf\n",
    "from tensorflow.keras.models import Sequential\n",
    "from tensorflow.keras.layers import Dense\n",
    "from tensorflow.keras.activations import linear, relu, sigmoid\n",
    "\n",
    "#Normalizing\n",
    "x_train = tf.keras.utils.normalize(X_train, axis=1)\n",
    "x_test = tf.keras.utils.normalize(X_test, axis=1)\n",
    "\n",
    "#Creating the neural network\n",
    "tf.random.set_seed(1234)\n",
    "model = Sequential([\n",
    "    tf.keras.Input(shape = (784,)),\n",
    "    Dense(120, activation = 'relu', name = 'L1'),\n",
    "    Dense(120, activation = 'relu', name = 'L2'),\n",
    "    Dense(10, activation = 'linear', name = 'L3')\n",
    "    ], name = 'Digit'\n",
    ")\n",
    "\n",
    "print(x_train.shape, y_train.shape)\n",
    "model.summary()"
   ]
  },
  {
   "cell_type": "code",
   "execution_count": 9,
   "id": "f876fa97",
   "metadata": {},
   "outputs": [
    {
     "name": "stdout",
     "output_type": "stream",
     "text": [
      "(784, 120) (120,)\n",
      "(120, 120) (120,)\n",
      "(120, 10) (10,)\n"
     ]
    }
   ],
   "source": [
    "#Displaying the number of weights\n",
    "[layer1, layer2, layer3] = model.layers\n",
    "w1, b1 = layer1.get_weights()\n",
    "w2, b2 = layer2.get_weights()\n",
    "w3, b3 = layer3.get_weights()\n",
    "\n",
    "print(w1.shape, b1.shape)\n",
    "print(w2.shape, b2.shape)\n",
    "print(w3.shape, b3.shape)"
   ]
  },
  {
   "cell_type": "code",
   "execution_count": 10,
   "id": "bc040f78",
   "metadata": {},
   "outputs": [
    {
     "name": "stdout",
     "output_type": "stream",
     "text": [
      "Epoch 1/20\n",
      "1875/1875 [==============================] - 6s 3ms/step - loss: 0.3369 - accuracy: 0.9044\n",
      "Epoch 2/20\n",
      "1875/1875 [==============================] - 6s 3ms/step - loss: 0.1419 - accuracy: 0.9573\n",
      "Epoch 3/20\n",
      "1875/1875 [==============================] - 5s 3ms/step - loss: 0.0986 - accuracy: 0.9694\n",
      "Epoch 4/20\n",
      "1875/1875 [==============================] - 6s 3ms/step - loss: 0.0751 - accuracy: 0.9771\n",
      "Epoch 5/20\n",
      "1875/1875 [==============================] - 6s 3ms/step - loss: 0.0592 - accuracy: 0.9816\n",
      "Epoch 6/20\n",
      "1875/1875 [==============================] - 5s 3ms/step - loss: 0.0469 - accuracy: 0.9852\n",
      "Epoch 7/20\n",
      "1875/1875 [==============================] - 6s 3ms/step - loss: 0.0382 - accuracy: 0.9879\n",
      "Epoch 8/20\n",
      "1875/1875 [==============================] - 6s 3ms/step - loss: 0.0309 - accuracy: 0.9897\n",
      "Epoch 9/20\n",
      "1875/1875 [==============================] - 6s 3ms/step - loss: 0.0252 - accuracy: 0.9921\n",
      "Epoch 10/20\n",
      "1875/1875 [==============================] - 5s 3ms/step - loss: 0.0213 - accuracy: 0.9932\n",
      "Epoch 11/20\n",
      "1875/1875 [==============================] - 6s 3ms/step - loss: 0.0182 - accuracy: 0.9938\n",
      "Epoch 12/20\n",
      "1875/1875 [==============================] - 5s 3ms/step - loss: 0.0163 - accuracy: 0.9943\n",
      "Epoch 13/20\n",
      "1875/1875 [==============================] - 5s 3ms/step - loss: 0.0119 - accuracy: 0.9963\n",
      "Epoch 14/20\n",
      "1875/1875 [==============================] - 5s 3ms/step - loss: 0.0116 - accuracy: 0.9961\n",
      "Epoch 15/20\n",
      "1875/1875 [==============================] - 5s 3ms/step - loss: 0.0096 - accuracy: 0.9969\n",
      "Epoch 16/20\n",
      "1875/1875 [==============================] - 6s 3ms/step - loss: 0.0096 - accuracy: 0.9965\n",
      "Epoch 17/20\n",
      "1875/1875 [==============================] - 6s 3ms/step - loss: 0.0090 - accuracy: 0.9969\n",
      "Epoch 18/20\n",
      "1875/1875 [==============================] - 6s 3ms/step - loss: 0.0082 - accuracy: 0.9973\n",
      "Epoch 19/20\n",
      "1875/1875 [==============================] - 6s 3ms/step - loss: 0.0071 - accuracy: 0.9977\n",
      "Epoch 20/20\n",
      "1875/1875 [==============================] - 6s 3ms/step - loss: 0.0068 - accuracy: 0.9980\n"
     ]
    }
   ],
   "source": [
    "#Training\n",
    "model.compile(\n",
    "    loss=tf.keras.losses.SparseCategoricalCrossentropy(from_logits=True),\n",
    "    optimizer=tf.keras.optimizers.Adam(learning_rate=0.001),\n",
    "    metrics=['accuracy']\n",
    ")\n",
    "\n",
    "history1 = model.fit(\n",
    "    x_train,y_train,\n",
    "    epochs=20\n",
    ")"
   ]
  },
  {
   "cell_type": "code",
   "execution_count": 11,
   "id": "f7933820",
   "metadata": {},
   "outputs": [
    {
     "data": {
      "image/png": "[encoded data removed]",
      "text/plain": [
       "<Figure size 640x480 with 1 Axes>"
      ]
     },
     "metadata": {},
     "output_type": "display_data"
    }
   ],
   "source": [
    "loss = history1.history['loss']\n",
    "epochs = range(1, len(loss) + 1)\n",
    "plt.plot(epochs, loss, 'red', label='Training Loss', linewidth=2)\n",
    "plt.title('Training Loss Over Epochs')\n",
    "plt.xlabel('Epoch')\n",
    "plt.ylabel('Loss')\n",
    "plt.legend()\n",
    "plt.show()\n"
   ]
  },
  {
   "cell_type": "code",
   "execution_count": 12,
   "id": "de5798a8",
   "metadata": {},
   "outputs": [
    {
     "name": "stdout",
     "output_type": "stream",
     "text": [
      "1/1 [==============================] - 0s 88ms/step\n",
      "Predicted Value: 4\n",
      "Actual value: 4\n"
     ]
    },
    {
     "data": {
      "image/png": "[encoded data removed]",
      "text/plain": [
       "<Figure size 640x480 with 1 Axes>"
      ]
     },
     "metadata": {},
     "output_type": "display_data"
    }
   ],
   "source": [
    "#Testing the model on a random training sample\n",
    "def show_image(x):\n",
    "    current_image = x.reshape((28, 28)) * 255\n",
    "    plt.gray()\n",
    "    plt.imshow(current_image, interpolation='Nearest')\n",
    "    plt.show()\n",
    "    \n",
    "def make_predictions(x, y):\n",
    "    predictions = model.predict(x.reshape(1,784))\n",
    "    print(f\"Predicted Value: {np.argmax(predictions)}\")\n",
    "    print(f\"Actual value: {y}\")\n",
    "    show_image(x)\n",
    "    \n",
    "rindex = np.random.randint(20000)#Randomly selecting an index value\n",
    "x = np.array(x_train.iloc[rindex])#Selecting a row from training set. Since iloc returns a series, it is converted to array.\n",
    "y = np.array(y_train.iloc[rindex])\n",
    "\n",
    "make_predictions(x, y)\n",
    "\n"
   ]
  },
  {
   "cell_type": "code",
   "execution_count": 13,
   "id": "f6be7a7c",
   "metadata": {},
   "outputs": [
    {
     "name": "stdout",
     "output_type": "stream",
     "text": [
      "313/313 [==============================] - 1s 2ms/step - loss: 0.1079 - accuracy: 0.9769\n",
      "Test Loss: 0.10792377591133118\n",
      "Test Accuracy: 0.9768999814987183\n"
     ]
    }
   ],
   "source": [
    "#Testing accuracy on test set\n",
    "test_loss, test_accuracy = model.evaluate(x_test, y_test)\n",
    "\n",
    "print(\"Test Loss:\", test_loss)\n",
    "print(\"Test Accuracy:\", test_accuracy)"
   ]
  },
  {
   "cell_type": "markdown",
   "id": "1e4828aa",
   "metadata": {},
   "source": [
    "Accuracy is pretty high for NN classification."
   ]
  }
 ],
 "metadata": {
  "kernelspec": {
   "display_name": "Python 3 (ipykernel)",
   "language": "python",
   "name": "python3"
  },
  "language_info": {
   "codemirror_mode": {
    "name": "ipython",
    "version": 3
   },
   "file_extension": ".py",
   "mimetype": "text/x-python",
   "name": "python",
   "nbconvert_exporter": "python",
   "pygments_lexer": "ipython3",
   "version": "3.7.9"
  }
 },
 "nbformat": 4,
 "nbformat_minor": 5
}
